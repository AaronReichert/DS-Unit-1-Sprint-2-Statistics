{
  "nbformat": 4,
  "nbformat_minor": 0,
  "metadata": {
    "colab": {
      "name": "Copy of LS_DS_122_Sampling_Confidence_Intervals_and_Hypothesis_Testing_Assignment.ipynb",
      "provenance": [],
      "collapsed_sections": [],
      "include_colab_link": true
    },
    "kernelspec": {
      "name": "python3",
      "display_name": "Python 3"
    }
  },
  "cells": [
    {
      "cell_type": "markdown",
      "metadata": {
        "id": "view-in-github",
        "colab_type": "text"
      },
      "source": [
        "<a href=\"https://colab.research.google.com/github/AaronReichert/DS-Unit-1-Sprint-2-Statistics/blob/master/module2/LS_DS_122_Sampling_Confidence_Intervals_and_Hypothesis_Testing_Assignment.ipynb\" target=\"_parent\"><img src=\"https://colab.research.google.com/assets/colab-badge.svg\" alt=\"Open In Colab\"/></a>"
      ]
    },
    {
      "cell_type": "markdown",
      "metadata": {
        "id": "11OzdxWTM7UR",
        "colab_type": "text"
      },
      "source": [
        "## Assignment - Build a confidence interval\n",
        "\n",
        "A confidence interval refers to a neighborhood around some point estimate, the size of which is determined by the desired p-value. For instance, we might say that 52% of Americans prefer tacos to burritos, with a 95% confidence interval of +/- 5%.\n",
        "\n",
        "52% (0.52) is the point estimate, and +/- 5% (the interval $[0.47, 0.57]$) is the confidence interval. \"95% confidence\" means a p-value $\\leq 1 - 0.95 = 0.05$.\n",
        "\n",
        "In this case, the confidence interval includes $0.5$ - which is the natural null hypothesis (that half of Americans prefer tacos and half burritos, thus there is no clear favorite). So in this case, we could use the confidence interval to report that we've failed to reject the null hypothesis.\n",
        "\n",
        "But providing the full analysis with a confidence interval, including a graphical representation of it, can be a helpful and powerful way to tell your story. Done well, it is also more intuitive to a layperson than simply saying \"fail to reject the null hypothesis\" - it shows that in fact the data does *not* give a single clear result (the point estimate) but a whole range of possibilities.\n",
        "\n",
        "How is a confidence interval built, and how should it be interpreted? It does *not* mean that 95% of the data lies in that interval - instead, the frequentist interpretation is \"if we were to repeat this experiment 100 times, we would expect the average result to lie in this interval ~95 times.\"\n",
        "\n",
        "For a 95% confidence interval and a normal(-ish) distribution, you can simply remember that +/-2 standard deviations contains 95% of the probability mass, and so the 95% confidence interval based on a given sample is centered at the mean (point estimate) and has a range of +/- 2 (or technically 1.96) standard deviations.\n",
        "\n",
        "Different distributions/assumptions (90% confidence, 99% confidence) will require different math, but the overall process and interpretation (with a frequentist approach) will be the same.\n",
        "\n",
        "Your assignment - using the data from the prior module ([congressional voting records](https://archive.ics.uci.edu/ml/datasets/Congressional+Voting+Records)):\n",
        "\n",
        "\n",
        "### Confidence Intervals:\n",
        "1. Generate and numerically represent a confidence interval\n",
        "2. Graphically (with a plot) represent the confidence interval\n",
        "3. Interpret the confidence interval - what does it tell you about the data and its distribution?\n",
        "\n",
        "### Chi-squared tests:\n",
        "4. Take a dataset that we have used in the past in class that has **categorical** variables. Pick two of those categorical variables and run a chi-squared tests on that data\n",
        "  - By hand using Numpy\n",
        "  - In a single line using Scipy\n"
      ]
    },
    {
      "cell_type": "code",
      "metadata": {
        "id": "Ckcr4A4FM7cs",
        "colab_type": "code",
        "colab": {
          "base_uri": "https://localhost:8080/",
          "height": 238
        },
        "outputId": "7ec8f276-e22d-4434-c21d-e55c00ef3c8b"
      },
      "source": [
        "# # TODO - your code!\n",
        "import pandas as pd\n",
        "import seaborn as sns\n",
        "import numpy as np\n",
        "from scipy.stats import ttest_ind\n",
        "from scipy.stats import ttest_1samp \n",
        "import scipy.stats as stats\n",
        "import matplotlib.pyplot as plt\n",
        "\n",
        "\n",
        "#    1. Class Name: 2 (democrat, republican)\n",
        "#    2. handicapped-infants: 2 (y,n)\n",
        "#    3. water-project-cost-sharing: 2 (y,n)\n",
        "#    4. adoption-of-the-budget-resolution: 2 (y,n)\n",
        "#    5. physician-fee-freeze: 2 (y,n)\n",
        "#    6. el-salvador-aid: 2 (y,n)\n",
        "#    7. religious-groups-in-schools: 2 (y,n)\n",
        "#    8. anti-satellite-test-ban: 2 (y,n)\n",
        "#    9. aid-to-nicaraguan-contras: 2 (y,n)\n",
        "#   10. mx-missile: 2 (y,n)\n",
        "#   11. immigration: 2 (y,n)\n",
        "#   12. synfuels-corporation-cutback: 2 (y,n)\n",
        "#   13. education-spending: 2 (y,n)\n",
        "#   14. superfund-right-to-sue: 2 (y,n)\n",
        "#   15. crime: 2 (y,n)\n",
        "#   16. duty-free-exports: 2 (y,n)\n",
        "#   17. export-administration-act-south-africa: 2 (y,n)\n",
        "\n",
        "column_names=['dem/rep','handicapped-infants','water-project-cost-sharing',\n",
        "              'adoption-of-the-budget-resolution','physician-fee-freeze',\n",
        "              'el-salvador-aid','religious-groups-in-schools',\n",
        "              'anti-satellite-test-ban','aid-to-nicaraguan-contras','mx-missile',\n",
        "              'immigration','synfuels-corporation-cutback','education-spending',\n",
        "              'superfund-right-to-sue','crime','duty-free-exports',\n",
        "              'export-administration-act-south-africa']\n",
        "              \n",
        "url=('https://archive.ics.uci.edu/ml/machine-learning-databases/voting-records/house-votes-84.data')\n",
        "DF_votes = pd.read_csv(url,header=None,names=column_names,na_values='?')\n",
        "DF_votes.sample(5)"
      ],
      "execution_count": 7,
      "outputs": [
        {
          "output_type": "execute_result",
          "data": {
            "text/html": [
              "<div>\n",
              "<style scoped>\n",
              "    .dataframe tbody tr th:only-of-type {\n",
              "        vertical-align: middle;\n",
              "    }\n",
              "\n",
              "    .dataframe tbody tr th {\n",
              "        vertical-align: top;\n",
              "    }\n",
              "\n",
              "    .dataframe thead th {\n",
              "        text-align: right;\n",
              "    }\n",
              "</style>\n",
              "<table border=\"1\" class=\"dataframe\">\n",
              "  <thead>\n",
              "    <tr style=\"text-align: right;\">\n",
              "      <th></th>\n",
              "      <th>dem/rep</th>\n",
              "      <th>handicapped-infants</th>\n",
              "      <th>water-project-cost-sharing</th>\n",
              "      <th>adoption-of-the-budget-resolution</th>\n",
              "      <th>physician-fee-freeze</th>\n",
              "      <th>el-salvador-aid</th>\n",
              "      <th>religious-groups-in-schools</th>\n",
              "      <th>anti-satellite-test-ban</th>\n",
              "      <th>aid-to-nicaraguan-contras</th>\n",
              "      <th>mx-missile</th>\n",
              "      <th>immigration</th>\n",
              "      <th>synfuels-corporation-cutback</th>\n",
              "      <th>education-spending</th>\n",
              "      <th>superfund-right-to-sue</th>\n",
              "      <th>crime</th>\n",
              "      <th>duty-free-exports</th>\n",
              "      <th>export-administration-act-south-africa</th>\n",
              "    </tr>\n",
              "  </thead>\n",
              "  <tbody>\n",
              "    <tr>\n",
              "      <th>431</th>\n",
              "      <td>democrat</td>\n",
              "      <td>n</td>\n",
              "      <td>n</td>\n",
              "      <td>y</td>\n",
              "      <td>n</td>\n",
              "      <td>n</td>\n",
              "      <td>n</td>\n",
              "      <td>y</td>\n",
              "      <td>y</td>\n",
              "      <td>y</td>\n",
              "      <td>y</td>\n",
              "      <td>n</td>\n",
              "      <td>n</td>\n",
              "      <td>n</td>\n",
              "      <td>n</td>\n",
              "      <td>n</td>\n",
              "      <td>y</td>\n",
              "    </tr>\n",
              "    <tr>\n",
              "      <th>102</th>\n",
              "      <td>democrat</td>\n",
              "      <td>y</td>\n",
              "      <td>n</td>\n",
              "      <td>y</td>\n",
              "      <td>n</td>\n",
              "      <td>y</td>\n",
              "      <td>y</td>\n",
              "      <td>y</td>\n",
              "      <td>n</td>\n",
              "      <td>NaN</td>\n",
              "      <td>n</td>\n",
              "      <td>y</td>\n",
              "      <td>n</td>\n",
              "      <td>y</td>\n",
              "      <td>y</td>\n",
              "      <td>y</td>\n",
              "      <td>NaN</td>\n",
              "    </tr>\n",
              "    <tr>\n",
              "      <th>49</th>\n",
              "      <td>republican</td>\n",
              "      <td>n</td>\n",
              "      <td>NaN</td>\n",
              "      <td>n</td>\n",
              "      <td>y</td>\n",
              "      <td>y</td>\n",
              "      <td>y</td>\n",
              "      <td>n</td>\n",
              "      <td>n</td>\n",
              "      <td>n</td>\n",
              "      <td>n</td>\n",
              "      <td>n</td>\n",
              "      <td>y</td>\n",
              "      <td>y</td>\n",
              "      <td>y</td>\n",
              "      <td>n</td>\n",
              "      <td>n</td>\n",
              "    </tr>\n",
              "    <tr>\n",
              "      <th>276</th>\n",
              "      <td>republican</td>\n",
              "      <td>n</td>\n",
              "      <td>n</td>\n",
              "      <td>n</td>\n",
              "      <td>y</td>\n",
              "      <td>y</td>\n",
              "      <td>y</td>\n",
              "      <td>n</td>\n",
              "      <td>n</td>\n",
              "      <td>n</td>\n",
              "      <td>n</td>\n",
              "      <td>n</td>\n",
              "      <td>y</td>\n",
              "      <td>y</td>\n",
              "      <td>y</td>\n",
              "      <td>y</td>\n",
              "      <td>n</td>\n",
              "    </tr>\n",
              "    <tr>\n",
              "      <th>361</th>\n",
              "      <td>democrat</td>\n",
              "      <td>y</td>\n",
              "      <td>n</td>\n",
              "      <td>y</td>\n",
              "      <td>n</td>\n",
              "      <td>y</td>\n",
              "      <td>y</td>\n",
              "      <td>y</td>\n",
              "      <td>n</td>\n",
              "      <td>y</td>\n",
              "      <td>y</td>\n",
              "      <td>n</td>\n",
              "      <td>n</td>\n",
              "      <td>y</td>\n",
              "      <td>y</td>\n",
              "      <td>n</td>\n",
              "      <td>NaN</td>\n",
              "    </tr>\n",
              "  </tbody>\n",
              "</table>\n",
              "</div>"
            ],
            "text/plain": [
              "        dem/rep  ... export-administration-act-south-africa\n",
              "431    democrat  ...                                      y\n",
              "102    democrat  ...                                    NaN\n",
              "49   republican  ...                                      n\n",
              "276  republican  ...                                      n\n",
              "361    democrat  ...                                    NaN\n",
              "\n",
              "[5 rows x 17 columns]"
            ]
          },
          "metadata": {
            "tags": []
          },
          "execution_count": 7
        }
      ]
    },
    {
      "cell_type": "code",
      "metadata": {
        "id": "HawC1DRUX7wq",
        "colab_type": "code",
        "colab": {
          "base_uri": "https://localhost:8080/",
          "height": 425
        },
        "outputId": "b7f348a8-f326-47a9-8bc9-c7ae3e4bc35d"
      },
      "source": [
        "DF_votes=DF_votes.replace({'y':1,'n':0})\n",
        "DF_dem=DF_votes[DF_votes['dem/rep']=='democrat']\n",
        "DF_rep=DF_votes[DF_votes['dem/rep']=='republican']\n",
        "print(DF_rep.sample(9))\n",
        "print(DF_dem.sample(9))"
      ],
      "execution_count": 2,
      "outputs": [
        {
          "output_type": "stream",
          "text": [
            "        dem/rep  ...  export-administration-act-south-africa\n",
            "82   republican  ...                                     1.0\n",
            "1    republican  ...                                     NaN\n",
            "71   republican  ...                                     1.0\n",
            "56   republican  ...                                     1.0\n",
            "314  republican  ...                                     1.0\n",
            "204  republican  ...                                     1.0\n",
            "345  republican  ...                                     1.0\n",
            "273  republican  ...                                     1.0\n",
            "51   republican  ...                                     1.0\n",
            "\n",
            "[9 rows x 17 columns]\n",
            "      dem/rep  ...  export-administration-act-south-africa\n",
            "74   democrat  ...                                     1.0\n",
            "200  democrat  ...                                     1.0\n",
            "129  democrat  ...                                     NaN\n",
            "29   democrat  ...                                     1.0\n",
            "331  democrat  ...                                     NaN\n",
            "209  democrat  ...                                     1.0\n",
            "221  democrat  ...                                     NaN\n",
            "47   democrat  ...                                     NaN\n",
            "286  democrat  ...                                     NaN\n",
            "\n",
            "[9 rows x 17 columns]\n"
          ],
          "name": "stdout"
        }
      ]
    },
    {
      "cell_type": "code",
      "metadata": {
        "id": "POEMqaozFPcN",
        "colab_type": "code",
        "colab": {
          "base_uri": "https://localhost:8080/",
          "height": 34
        },
        "outputId": "f7b019d0-7faf-4808-ca4d-f62c4a86ad96"
      },
      "source": [
        "confidence_data=DF_dem['water-project-cost-sharing']\n",
        "sample_size=len(confidence_data)\n",
        "standard_deviation=np.std(confidence_data,ddof=1)/np.sqrt(sample_size)\n",
        "margin_of_error=standard_deviation*stats.t.ppf((1+.95)/2,sample_size-1)\n",
        "print('mean',f'{confidence_data.mean():.3%}','lower margin',f'{confidence_data.mean()-margin_of_error:.3%}','upper margin',f'{confidence_data.mean()+margin_of_error:.3%}')\n",
        "# print(f'{margin_of_error:.3%}')\n",
        "# print(margin_of_error)"
      ],
      "execution_count": 31,
      "outputs": [
        {
          "output_type": "stream",
          "text": [
            "mean 50.209% lower margin 44.172% upper margin 56.247%\n"
          ],
          "name": "stdout"
        }
      ]
    },
    {
      "cell_type": "code",
      "metadata": {
        "id": "1-SOfzJMARj6",
        "colab_type": "code",
        "colab": {}
      },
      "source": [
        "# def confidence_interval(data,confidence=.95):\n",
        "#   data_array=np.array(data)\n",
        "#   data_mean=np.mean(data)\n",
        "#   n=len(data)\n",
        "#   stderr=np.std(data_array,ddof=1)/np.sqrt(n)\n",
        "#   moe=stderr*stats.t.ppf((1+confidence)/2,n-1)\n",
        "#   return(data_mean,data_mean-moe,data_mean+moe)"
      ],
      "execution_count": 0,
      "outputs": []
    },
    {
      "cell_type": "code",
      "metadata": {
        "id": "K4cRqX5u0pjG",
        "colab_type": "code",
        "colab": {}
      },
      "source": [
        "# graph_data=DF_dem['water-project-cost-sharing']\n",
        "\n",
        "# sns.kdeplot(graph_data)\n",
        "# CI=confidence_interval(graph_data)\n",
        "# plt.axvline(x=CI[1],color='r')\n",
        "# plt.axvline(x=CI[2],color='r')\n",
        "# plt.axvline(x=CI[0],color='k');\n"
      ],
      "execution_count": 0,
      "outputs": []
    },
    {
      "cell_type": "code",
      "metadata": {
        "id": "0DWCeZDoN-4Y",
        "colab_type": "code",
        "colab": {
          "base_uri": "https://localhost:8080/",
          "height": 282
        },
        "outputId": "d6b1b3c8-ffec-4910-fe8a-197656b6e9e7"
      },
      "source": [
        "confidence_data=DF_dem['water-project-cost-sharing'].dropna()\n",
        "sample_size=len(confidence_data)\n",
        "standard_deviation=np.std(confidence_data,ddof=1)/np.sqrt(sample_size)\n",
        "margin_of_error=standard_deviation*stats.t.ppf((1+.95)/2,sample_size-1)\n",
        "mean=confidence_data.mean()\n",
        "lower_margin=(confidence_data.mean()-margin_of_error)\n",
        "upper_margin=(confidence_data.mean()+margin_of_error)\n",
        "sns.kdeplot(confidence_data)\n",
        "plt.axvline(x=mean,color='k')\n",
        "plt.axvline(x=lower_margin,color='r')\n",
        "plt.axvline(x=upper_margin,color='r');\n",
        "print('mean',f'{confidence_data.mean():.3%}','lower margin',f'{confidence_data.mean()-margin_of_error:.3%}','upper margin',f'{confidence_data.mean()+margin_of_error:.3%}')"
      ],
      "execution_count": 46,
      "outputs": [
        {
          "output_type": "stream",
          "text": [
            "mean 50.209% lower margin 43.825% upper margin 56.594%\n"
          ],
          "name": "stdout"
        },
        {
          "output_type": "display_data",
          "data": {
            "image/png": "[encoded data removed]",
            "text/plain": [
              "<Figure size 432x288 with 1 Axes>"
            ]
          },
          "metadata": {
            "tags": []
          }
        }
      ]
    },
    {
      "cell_type": "markdown",
      "metadata": {
        "id": "BtGuODV9Pevh",
        "colab_type": "text"
      },
      "source": [
        ""
      ]
    },
    {
      "cell_type": "code",
      "metadata": {
        "id": "W4KtXtlXPWxs",
        "colab_type": "code",
        "colab": {
          "base_uri": "https://localhost:8080/",
          "height": 284
        },
        "outputId": "459c2911-94f1-4343-f760-93d023328280"
      },
      "source": [
        "confidence_data=DF_dem['crime'].dropna()\n",
        "sample_size=len(confidence_data)\n",
        "standard_deviation=np.std(confidence_data,ddof=1)/np.sqrt(sample_size)\n",
        "margin_of_error=standard_deviation*stats.t.ppf((1+.95)/2,sample_size-1)\n",
        "mean=confidence_data.mean()\n",
        "lower_margin=(confidence_data.mean()-margin_of_error)\n",
        "upper_margin=(confidence_data.mean()+margin_of_error)\n",
        "sns.kdeplot(confidence_data)\n",
        "plt.axvline(x=mean,color='k')\n",
        "plt.axvline(x=lower_margin,color='r')\n",
        "plt.axvline(x=upper_margin,color='r');\n",
        "print('mean',f'{confidence_data.mean():.3%}','lower margin',f'{confidence_data.mean()-margin_of_error:.3%}','upper margin',f'{confidence_data.mean()+margin_of_error:.3%}')"
      ],
      "execution_count": 47,
      "outputs": [
        {
          "output_type": "stream",
          "text": [
            "mean 35.019% lower margin 29.148% upper margin 40.891%\n"
          ],
          "name": "stdout"
        },
        {
          "output_type": "display_data",
          "data": {
            "image/png": "[encoded data removed]",
            "text/plain": [
              "<Figure size 432x288 with 1 Axes>"
            ]
          },
          "metadata": {
            "tags": []
          }
        }
      ]
    },
    {
      "cell_type": "markdown",
      "metadata": {
        "id": "4ohsJhQUmEuS",
        "colab_type": "text"
      },
      "source": [
        "## Stretch goals:\n",
        "\n",
        "1. Write a summary of your findings, mixing prose and math/code/results. *Note* - yes, this is by definition a political topic. It is challenging but important to keep your writing voice *neutral* and stick to the facts of the data. Data science often involves considering controversial issues, so it's important to be sensitive about them (especially if you want to publish).\n",
        "2. Apply the techniques you learned today to your project data or other data of your choice, and write/discuss your findings here.\n",
        "3. Refactor your code so it is elegant, readable, and can be easily run for all issues."
      ]
    },
    {
      "cell_type": "markdown",
      "metadata": {
        "id": "nyJ3ySr7R2k9",
        "colab_type": "text"
      },
      "source": [
        "## Resources\n",
        "\n",
        "- [Interactive visualize the Chi-Squared test](https://homepage.divms.uiowa.edu/~mbognar/applets/chisq.html)\n",
        "- [Calculation of Chi-Squared test statistic](https://en.wikipedia.org/wiki/Pearson%27s_chi-squared_test)\n",
        "- [Visualization of a confidence interval generated by R code](https://commons.wikimedia.org/wiki/File:Confidence-interval.svg)\n",
        "- [Expected value of a squared standard normal](https://math.stackexchange.com/questions/264061/expected-value-calculation-for-squared-normal-distribution) (it's 1 - which is why the expected value of a Chi-Squared with $n$ degrees of freedom is $n$, as it's the sum of $n$ squared standard normals)"
      ]
    }
  ]
}