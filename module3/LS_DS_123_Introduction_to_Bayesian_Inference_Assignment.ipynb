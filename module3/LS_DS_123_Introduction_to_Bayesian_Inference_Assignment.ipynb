{
  "nbformat": 4,
  "nbformat_minor": 0,
  "metadata": {
    "colab": {
      "name": "Copy of LS_DS_123_Introduction_to_Bayesian_Inference_Assignment.ipynb",
      "provenance": [],
      "include_colab_link": true
    },
    "kernelspec": {
      "name": "python3",
      "display_name": "Python 3"
    }
  },
  "cells": [
    {
      "cell_type": "markdown",
      "metadata": {
        "id": "view-in-github",
        "colab_type": "text"
      },
      "source": [
        "<a href=\"https://colab.research.google.com/github/AaronReichert/DS-Unit-1-Sprint-2-Statistics/blob/master/module3/LS_DS_123_Introduction_to_Bayesian_Inference_Assignment.ipynb\" target=\"_parent\"><img src=\"https://colab.research.google.com/assets/colab-badge.svg\" alt=\"Open In Colab\"/></a>"
      ]
    },
    {
      "cell_type": "markdown",
      "metadata": {
        "id": "H7OLbevlbd_Z",
        "colab_type": "text"
      },
      "source": [
        "# Lambda School Data Science Module 123\n",
        "\n",
        "## Introduction to Bayesian Inference\n",
        "\n",
        "\n"
      ]
    },
    {
      "cell_type": "markdown",
      "metadata": {
        "id": "P-DzzRk5bf0z",
        "colab_type": "text"
      },
      "source": [
        "## Assignment - Code it up!\n",
        "\n",
        "We used pure math to apply Bayes Theorem to drug tests. Now write Python code to reproduce the results! This is purposefully open ended - you'll have to think about how you should represent probabilities and events. You can and should look things up.\n",
        "\n",
        "Specific goals/targets:\n",
        "\n",
        "### 1) Write a function \n",
        "\n",
        "`def prob_drunk_given_positive(prob_drunk_prior, false_positive_rate):` \n",
        "\n",
        "You should only truly need these two values in order to apply Bayes Theorem. In this example, imagine that individuals are taking a breathalyzer test with an 8% false positive rate, a 100% true positive rate, and that our prior belief about drunk driving in the population is 1/1000. \n",
        " - What is the probability that a person is drunk after one positive breathalyzer test?\n",
        " - What is the probability that a person is drunk after two positive breathalyzer tests?\n",
        " - How many positive breathalyzer tests are needed in order to have a probability that's greater than 95% that a person is drunk beyond the legal limit?\n",
        "\n",
        "### 2) Explore `scipy.stats.bayes_mvs`  \n",
        "Read its documentation, and experiment with it on data you've tested in other ways earlier this week.\n",
        " - Create a visualization comparing the results of a Bayesian approach to a traditional/frequentist approach. (with a large sample size they should look close to identical, however, take this opportunity to practice visualizing condfidence intervals in general. The following are some potential ways that you could visualize confidence intervals on your graph:\n",
        "  - [Matplotlib Error Bars](https://matplotlib.org/3.1.1/api/_as_gen/matplotlib.pyplot.errorbar.html)\n",
        "  - [Seaborn barplot with error bars](https://seaborn.pydata.org/generated/seaborn.barplot.html)\n",
        "  - [Vertical ines to show bounds of confidence interval](https://www.simplypsychology.org/confidence-interval.jpg)\n",
        "  - [Confidence Intervals on Box Plots](https://matplotlib.org/3.1.1/api/_as_gen/matplotlib.axes.Axes.boxplot.html)\n",
        "\n",
        "### 3) In your own words, summarize the difference between Bayesian and Frequentist statistics\n",
        "\n",
        "If you're unsure where to start, check out [this blog post of Bayes theorem with Python](https://dataconomy.com/2015/02/introduction-to-bayes-theorem-with-python/).\n",
        "\n"
      ]
    },
    {
      "cell_type": "code",
      "metadata": {
        "id": "xpVhZyUnbf7o",
        "colab_type": "code",
        "outputId": "80914fdd-0029-4e76-813f-58bbe7f5dff6",
        "colab": {
          "base_uri": "https://localhost:8080/",
          "height": 102
        }
      },
      "source": [
        "# TODO - code!\n",
        "false_posative_rate=.08\n",
        "true_posative_rate=1\n",
        "drunk_drivers=1/1000\n",
        "breathalizer_tests_taken=0\n",
        "while breathalizer_tests_taken <5:\n",
        "  breathalizer_tests_taken+=1\n",
        "  chance_posative_is_true=(true_posative_rate*drunk_drivers)/((true_posative_rate*drunk_drivers)+(false_posative_rate*(1-drunk_drivers)))\n",
        "  print('after',breathalizer_tests_taken,'failed breathalizer tests the chance it is a true posative is',f'{chance_posative_is_true:.3%}')\n",
        "  drunk_drivers=chance_posative_is_true"
      ],
      "execution_count": 0,
      "outputs": [
        {
          "output_type": "stream",
          "text": [
            "after 1 failed breathalizer tests the chance it is a true posative is 1.236%\n",
            "after 2 failed breathalizer tests the chance it is a true posative is 13.525%\n",
            "after 3 failed breathalizer tests the chance it is a true posative is 66.160%\n",
            "after 4 failed breathalizer tests the chance it is a true posative is 96.069%\n",
            "after 5 failed breathalizer tests the chance it is a true posative is 99.674%\n"
          ],
          "name": "stdout"
        }
      ]
    },
    {
      "cell_type": "code",
      "metadata": {
        "id": "3qE9QuGDyGyU",
        "colab_type": "code",
        "outputId": "e6ff36a7-7c83-49a0-d891-d2fe945641db",
        "colab": {
          "base_uri": "https://localhost:8080/",
          "height": 102
        }
      },
      "source": [
        "false_posative_rate=.08\n",
        "true_posative_rate=1\n",
        "drunk_drivers=1\n",
        "sober_drivers=999\n",
        "breathalizer_tests_taken=0\n",
        "while breathalizer_tests_taken <5:\n",
        "  breathalizer_tests_taken+=1\n",
        "  chance_posative_is_true=(true_posative_rate*drunk_drivers)/((true_posative_rate*drunk_drivers)+((false_posative_rate**breathalizer_tests_taken)*sober_drivers))\n",
        "  print('after',breathalizer_tests_taken,'failed breathalizer tests the chance it is a true posative is',f'{chance_posative_is_true:.3%}')"
      ],
      "execution_count": 0,
      "outputs": [
        {
          "output_type": "stream",
          "text": [
            "after 1 failed breathalizer tests the chance it is a true posative is 1.236%\n",
            "after 2 failed breathalizer tests the chance it is a true posative is 13.525%\n",
            "after 3 failed breathalizer tests the chance it is a true posative is 66.160%\n",
            "after 4 failed breathalizer tests the chance it is a true posative is 96.069%\n",
            "after 5 failed breathalizer tests the chance it is a true posative is 99.674%\n"
          ],
          "name": "stdout"
        }
      ]
    },
    {
      "cell_type": "code",
      "metadata": {
        "id": "fml8JM2ryWnc",
        "colab_type": "code",
        "outputId": "ec1bb59d-bbe9-4858-f928-334a4d8377d4",
        "colab": {
          "base_uri": "https://localhost:8080/",
          "height": 102
        }
      },
      "source": [
        "false_posative_rate=.08\n",
        "prob_drunk_prior=1/1000\n",
        "\n",
        "\n",
        "def prob_drunk_given_positive(prob_drunk_prior, false_positive_rate):\n",
        "  return(prob_drunk_prior/(prob_drunk_prior+(false_positive_rate*(1-prob_drunk_prior))))\n",
        "\n",
        "print(f'{prob_drunk_given_positive(1/1000,.08):.3%}')\n",
        "print(f'{prob_drunk_given_positive((prob_drunk_given_positive(1/1000,.08)),.08):.3%}')\n",
        "print(f'{prob_drunk_given_positive((prob_drunk_given_positive(prob_drunk_given_positive(1/1000,.08),.08)),.08):.3%}')\n",
        "print(f'{prob_drunk_given_positive((prob_drunk_given_positive(prob_drunk_given_positive(prob_drunk_given_positive(1/1000,.08),.08),.08)),.08):.3%}')\n",
        "print(f'{prob_drunk_given_positive((prob_drunk_given_positive(prob_drunk_given_positive(prob_drunk_given_positive(prob_drunk_given_positive(1/1000,.08),.08),.08),.08)),.08):.3%}')\n"
      ],
      "execution_count": 0,
      "outputs": [
        {
          "output_type": "stream",
          "text": [
            "1.236%\n",
            "13.525%\n",
            "66.160%\n",
            "96.069%\n",
            "99.674%\n"
          ],
          "name": "stdout"
        }
      ]
    },
    {
      "cell_type": "markdown",
      "metadata": {
        "id": "J6lRSneb4JgC",
        "colab_type": "text"
      },
      "source": [
        "### 2) Explore `scipy.stats.bayes_mvs`  \n",
        "Read its documentation, and experiment with it on data you've tested in other ways earlier this week.\n",
        " - Create a visualization comparing the results of a Bayesian approach to a traditional/frequentist approach. (with a large sample size they should look close to identical, however, take this opportunity to practice visualizing condfidence intervals in general. The following are some potential ways that you could visualize confidence intervals on your graph:\n",
        "  - [Matplotlib Error Bars](https://matplotlib.org/3.1.1/api/_as_gen/matplotlib.pyplot.errorbar.html)\n",
        "  - [Seaborn barplot with error bars](https://seaborn.pydata.org/generated/seaborn.barplot.html)\n",
        "  - [Vertical ines to show bounds of confidence interval](https://www.simplypsychology.org/confidence-interval.jpg)\n",
        "  - [Confidence Intervals on Box Plots](https://matplotlib.org/3.1.1/api/_as_gen/matplotlib.axes.Axes.boxplot.html)\n",
        "\n"
      ]
    },
    {
      "cell_type": "code",
      "metadata": {
        "id": "PiJ6iokE4LXI",
        "colab_type": "code",
        "colab": {}
      },
      "source": [
        "from scipy.stats import bayes_mvs\n",
        "import matplotlib.pyplot as plt\n",
        "import seaborn as sns"
      ],
      "execution_count": 0,
      "outputs": []
    },
    {
      "cell_type": "code",
      "metadata": {
        "id": "9QuC0DPv5moj",
        "colab_type": "code",
        "colab": {}
      },
      "source": [
        ""
      ],
      "execution_count": 0,
      "outputs": []
    },
    {
      "cell_type": "markdown",
      "metadata": {
        "id": "EgJv25h75uLf",
        "colab_type": "text"
      },
      "source": [
        "### 3) In your own words, summarize the difference between Bayesian and Frequentist statistics\n",
        "\n",
        "If you're unsure where to start, check out [this blog post of Bayes theorem with Python](https://dataconomy.com/2015/02/introduction-to-bayes-theorem-with-python/)."
      ]
    },
    {
      "cell_type": "markdown",
      "metadata": {
        "id": "uWgWjp3PQ3Sq",
        "colab_type": "text"
      },
      "source": [
        "## Resources"
      ]
    },
    {
      "cell_type": "markdown",
      "metadata": {
        "id": "QRgHqmYIQ9qn",
        "colab_type": "text"
      },
      "source": [
        "- [Worked example of Bayes rule calculation](https://en.wikipedia.org/wiki/Bayes'_theorem#Examples) (helpful as it fully breaks out the denominator)\n",
        "- [Source code for mvsdist in scipy](https://github.com/scipy/scipy/blob/90534919e139d2a81c24bf08341734ff41a3db12/scipy/stats/morestats.py#L139)"
      ]
    },
    {
      "cell_type": "markdown",
      "metadata": {
        "id": "GP7Jv1XvwtkX",
        "colab_type": "text"
      },
      "source": [
        "## Stretch Goals:\n",
        "\n",
        "- Go back and study the content from Modules 1 & 2 to make sure that you're really comfortable with them.\n",
        "- Apply a Bayesian technique to a problem you previously worked (in an assignment or project work) on from a frequentist (standard) perspective\n",
        "- Check out [PyMC3](https://docs.pymc.io/) (note this goes beyond hypothesis tests into modeling) - read the guides and work through some examples\n",
        "- Take PyMC3 further - see if you can build something with it!"
      ]
    },
    {
      "cell_type": "code",
      "metadata": {
        "id": "iDi0eFr1x-v_",
        "colab_type": "code",
        "colab": {}
      },
      "source": [
        ""
      ],
      "execution_count": 0,
      "outputs": []
    }
  ]
}